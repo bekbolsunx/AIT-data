{
 "cells": [
  {
   "cell_type": "code",
   "execution_count": 7,
   "id": "1598822c-95cb-4a0b-bd4b-4f81f876531c",
   "metadata": {},
   "outputs": [],
   "source": [
    "from PIL import Image"
   ]
  },
  {
   "cell_type": "code",
   "execution_count": 5,
   "id": "8a04fbdd-20cf-43ba-9c78-aecad9155cf1",
   "metadata": {},
   "outputs": [],
   "source": [
    "import numpy as np"
   ]
  },
  {
   "cell_type": "code",
   "execution_count": 32,
   "id": "4e190f5c-5f40-4cce-a0eb-3e28c0409c8f",
   "metadata": {},
   "outputs": [],
   "source": [
    "im = np.array(Image.open('C:/Users/bekbo/OneDrive/Desktop/AIT data/2nd_semester/LinearAlgebra/LENA.jpg'))"
   ]
  },
  {
   "cell_type": "code",
   "execution_count": null,
   "id": "49152679-86ef-4165-8e55-50f83086ca42",
   "metadata": {},
   "outputs": [],
   "source": []
  },
  {
   "cell_type": "code",
   "execution_count": 34,
   "id": "617e96ec-c945-4a1f-8a6f-6e98b6b3157f",
   "metadata": {},
   "outputs": [],
   "source": [
    "# img = Image.fromarray(im)\n",
    "# img.show()"
   ]
  },
  {
   "cell_type": "code",
   "execution_count": null,
   "id": "e8e7c3ed-cefa-4e08-a873-f1aad8362d5e",
   "metadata": {},
   "outputs": [],
   "source": []
  }
 ],
 "metadata": {
  "kernelspec": {
   "display_name": "Python 3 (ipykernel)",
   "language": "python",
   "name": "python3"
  },
  "language_info": {
   "codemirror_mode": {
    "name": "ipython",
    "version": 3
   },
   "file_extension": ".py",
   "mimetype": "text/x-python",
   "name": "python",
   "nbconvert_exporter": "python",
   "pygments_lexer": "ipython3",
   "version": "3.11.8"
  }
 },
 "nbformat": 4,
 "nbformat_minor": 5
}
