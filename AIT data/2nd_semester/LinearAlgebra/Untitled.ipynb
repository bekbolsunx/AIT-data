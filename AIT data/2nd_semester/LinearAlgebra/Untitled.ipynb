{
 "cells": [
  {
   "cell_type": "code",
   "execution_count": 1,
   "id": "9bc43583-45ff-48ad-b356-c38f7c065f54",
   "metadata": {},
   "outputs": [],
   "source": [
    "import numpy as np"
   ]
  },
  {
   "cell_type": "code",
   "execution_count": 27,
   "id": "6b9b6ed5-dc08-4c94-8b09-188a652dcf67",
   "metadata": {},
   "outputs": [
    {
     "name": "stdout",
     "output_type": "stream",
     "text": [
      "[[1 2 3 4]\n",
      " [3 4 5 9]]\n"
     ]
    }
   ],
   "source": [
    "a = np.array([[1,2,3,4],[3,4,5,9]])\n",
    "print(a)"
   ]
  },
  {
   "cell_type": "code",
   "execution_count": 6,
   "id": "fc7ea8d3-5328-410f-9054-049340c4a4f4",
   "metadata": {},
   "outputs": [
    {
     "name": "stdout",
     "output_type": "stream",
     "text": [
      "[[1 2 3 4 5 6]\n",
      " [1 4 5 6 7 8]]\n"
     ]
    }
   ],
   "source": [
    "b = np.array([[1,2,3,4,5,6],[1,4,5,6,7,8]])\n",
    "print(b)"
   ]
  },
  {
   "cell_type": "code",
   "execution_count": 28,
   "id": "6bbd51f5-0920-4d0f-ba6f-b3248e1f5798",
   "metadata": {},
   "outputs": [
    {
     "data": {
      "text/plain": [
       "2"
      ]
     },
     "execution_count": 28,
     "metadata": {},
     "output_type": "execute_result"
    }
   ],
   "source": [
    "#get dimension\n",
    "a.ndim"
   ]
  },
  {
   "cell_type": "code",
   "execution_count": 29,
   "id": "d70e48e3-a4bf-4c35-87ce-056db89af9d6",
   "metadata": {},
   "outputs": [
    {
     "data": {
      "text/plain": [
       "(2, 6)"
      ]
     },
     "execution_count": 29,
     "metadata": {},
     "output_type": "execute_result"
    }
   ],
   "source": [
    "#get shape\n",
    "b.shape"
   ]
  },
  {
   "cell_type": "code",
   "execution_count": 9,
   "id": "6e181c55-f46a-4152-81c1-b9ac5b200f1f",
   "metadata": {},
   "outputs": [
    {
     "data": {
      "text/plain": [
       "dtype('int32')"
      ]
     },
     "execution_count": 9,
     "metadata": {},
     "output_type": "execute_result"
    }
   ],
   "source": [
    "#get type\n",
    "b.dtype"
   ]
  },
  {
   "cell_type": "code",
   "execution_count": 30,
   "id": "53b4360a-17f0-4ba8-aa16-751ff282b2a3",
   "metadata": {},
   "outputs": [
    {
     "data": {
      "text/plain": [
       "4"
      ]
     },
     "execution_count": 30,
     "metadata": {},
     "output_type": "execute_result"
    }
   ],
   "source": [
    "#get size\n",
    "b.itemsize"
   ]
  },
  {
   "cell_type": "code",
   "execution_count": 31,
   "id": "978cd2b7-ead3-41df-8c9b-d72b8c974d27",
   "metadata": {},
   "outputs": [
    {
     "data": {
      "text/plain": [
       "32"
      ]
     },
     "execution_count": 31,
     "metadata": {},
     "output_type": "execute_result"
    }
   ],
   "source": [
    "#get total size\n",
    "a.nbytes"
   ]
  },
  {
   "cell_type": "code",
   "execution_count": 22,
   "id": "fddc58d3-5d82-40c9-a002-9dc7ee71eb67",
   "metadata": {},
   "outputs": [
    {
     "data": {
      "text/plain": [
       "2"
      ]
     },
     "execution_count": 22,
     "metadata": {},
     "output_type": "execute_result"
    }
   ],
   "source": [
    "#get specific element[row , column]\n",
    "b[0 , 1]"
   ]
  },
  {
   "cell_type": "code",
   "execution_count": 24,
   "id": "189e3f78-2554-44bb-ab4e-7e2afe0a8739",
   "metadata": {},
   "outputs": [
    {
     "data": {
      "text/plain": [
       "array([1, 2, 3, 4, 5, 6])"
      ]
     },
     "execution_count": 24,
     "metadata": {},
     "output_type": "execute_result"
    }
   ],
   "source": [
    "#get specific row \n",
    "b[0, :]"
   ]
  },
  {
   "cell_type": "code",
   "execution_count": 26,
   "id": "dfb97e8d-79ba-4dda-b668-a04c8dbb4b35",
   "metadata": {},
   "outputs": [
    {
     "data": {
      "text/plain": [
       "array([3, 5])"
      ]
     },
     "execution_count": 26,
     "metadata": {},
     "output_type": "execute_result"
    }
   ],
   "source": [
    "#get specific column\n",
    "b[: , 2]"
   ]
  },
  {
   "cell_type": "code",
   "execution_count": null,
   "id": "99656e95-88b2-45f3-8b48-726f21ccb557",
   "metadata": {},
   "outputs": [],
   "source": []
  }
 ],
 "metadata": {
  "kernelspec": {
   "display_name": "Python 3 (ipykernel)",
   "language": "python",
   "name": "python3"
  },
  "language_info": {
   "codemirror_mode": {
    "name": "ipython",
    "version": 3
   },
   "file_extension": ".py",
   "mimetype": "text/x-python",
   "name": "python",
   "nbconvert_exporter": "python",
   "pygments_lexer": "ipython3",
   "version": "3.11.8"
  }
 },
 "nbformat": 4,
 "nbformat_minor": 5
}
